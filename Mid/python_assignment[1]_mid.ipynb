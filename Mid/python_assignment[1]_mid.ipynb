{
  "nbformat": 4,
  "nbformat_minor": 0,
  "metadata": {
    "colab": {
      "provenance": []
    },
    "kernelspec": {
      "name": "python3",
      "display_name": "Python 3"
    },
    "language_info": {
      "name": "python"
    }
  },
  "cells": [
    {
      "cell_type": "markdown",
      "source": [
        "**List Operations**"
      ],
      "metadata": {
        "id": "ujIGfgMmkUEx"
      }
    },
    {
      "cell_type": "code",
      "execution_count": 30,
      "metadata": {
        "colab": {
          "base_uri": "https://localhost:8080/"
        },
        "id": "L_Dh3DSPhilV",
        "outputId": "c52ea49c-51b0-40ee-e4d1-c559f7b0e520"
      },
      "outputs": [
        {
          "output_type": "stream",
          "name": "stdout",
          "text": [
            "List of integers:  [1, 2, 3, 4, 5, 6, 7, 8, 9, 10]\n",
            "square of each number:  [1, 4, 9, 16, 25, 36, 49, 64, 81, 100]\n",
            "Sum of all elements of the list:  55\n"
          ]
        }
      ],
      "source": [
        "# Declaring List of integers from 1-10\n",
        "listOfInt = [1, 2, 3, 4, 5, 6, 7, 8, 9, 10]\n",
        "\n",
        "# Making a copy of arr1\n",
        "copy_listOfInt = [i for i in listOfInt]\n",
        "print(\"List of integers: \", copy_listOfInt)\n",
        "\n",
        "# Getting square of each number of the listOfInt\n",
        "sq = [a**2 for a in listOfInt]\n",
        "print(\"square of each number: \", sq)\n",
        "\n",
        "# Sum of all elements of the list\n",
        "total = 0\n",
        "for num in copy_listOfInt:\n",
        "    total += num\n",
        "print(\"Sum of all elements of the list: \", total)\n"
      ]
    },
    {
      "cell_type": "markdown",
      "source": [
        "**Tuple Operations**\n",
        "\n"
      ],
      "metadata": {
        "id": "UIp78rIKkyrI"
      }
    },
    {
      "cell_type": "code",
      "source": [
        "# Tuple of First five even numbers\n",
        "tupleOfEven = (2, 4, 6, 8, 10)\n",
        "\n",
        "# Finding each element of the tuple and getting the product of all elements in the tuple\n",
        "product = 1\n",
        "for num in tupleOfEven:\n",
        "  product *= num\n",
        "\n",
        "print(\"Product of all elements of the tuple: \", product)"
      ],
      "metadata": {
        "colab": {
          "base_uri": "https://localhost:8080/"
        },
        "id": "WubGMp8Mk4_4",
        "outputId": "05b057d4-299c-4430-99e4-2674608760eb"
      },
      "execution_count": 31,
      "outputs": [
        {
          "output_type": "stream",
          "name": "stdout",
          "text": [
            "Product of all elements of the tuple:  3840\n"
          ]
        }
      ]
    },
    {
      "cell_type": "markdown",
      "source": [
        "**Set Operations**"
      ],
      "metadata": {
        "id": "vifEhhz0lsak"
      }
    },
    {
      "cell_type": "code",
      "source": [
        "# Creating two sets of odd numbers between 1 to 10\n",
        "set1Odd = {1, 3, 9}\n",
        "set2Odd = {1, 3, 5, 7}\n",
        "\n",
        "# Finding and printing the union of the two sets: set1Odd, set2Odd\n",
        "union_set = set1Odd.union(set2Odd)\n",
        "print(\"Union of the two sets: \", union_set)\n",
        "\n",
        "# Finding and printing the intersection of the two sets\n",
        "intersection_set = set1Odd.intersection(set2Odd)\n",
        "print(\"Intersection of the two sets: \", intersection_set)\n"
      ],
      "metadata": {
        "colab": {
          "base_uri": "https://localhost:8080/"
        },
        "id": "qzkegBSnlsFR",
        "outputId": "b47e187f-48d6-45ec-f165-e21a1e94f7c3"
      },
      "execution_count": 32,
      "outputs": [
        {
          "output_type": "stream",
          "name": "stdout",
          "text": [
            "Union of the two sets:  {1, 3, 5, 7, 9}\n",
            "Intersection of the two sets:  {1, 3}\n"
          ]
        }
      ]
    },
    {
      "cell_type": "markdown",
      "source": [
        "**Dictionary Operations**"
      ],
      "metadata": {
        "id": "N4h52c8QnS_m"
      }
    },
    {
      "cell_type": "code",
      "source": [
        "# Creating a dectionary\n",
        "alphabet_dictionary = {}\n",
        "\n",
        "# Putting keys for first five lowercase alphabets and values to their respective ASCII values\n",
        "for character in 'abcde':\n",
        "  alphabet_dictionary[character] = ord(character)\n",
        "\n",
        "# Printing the dictionary\n",
        "print(\"Respective ASCII values for 'abcde': \", alphabet_dictionary)"
      ],
      "metadata": {
        "colab": {
          "base_uri": "https://localhost:8080/"
        },
        "id": "XQBRSL0rnZK4",
        "outputId": "b0bce0c6-da9c-4871-e14d-cd03f199d852"
      },
      "execution_count": 33,
      "outputs": [
        {
          "output_type": "stream",
          "name": "stdout",
          "text": [
            "Respective ASCII values for 'abcde':  {'a': 97, 'b': 98, 'c': 99, 'd': 100, 'e': 101}\n"
          ]
        }
      ]
    },
    {
      "cell_type": "markdown",
      "source": [
        "**Functional Programming**"
      ],
      "metadata": {
        "id": "YCqnDwXUpLdn"
      }
    },
    {
      "cell_type": "code",
      "source": [
        "# Defining the Square function that takes a number as parameter and returns the square of that number\n",
        "def squareMakingFunction(number):\n",
        "  return number ** 2\n",
        "\n",
        "# Declaring List of integers from 1-10\n",
        "listOfIntNumbers = [1, 2, 3, 4, 5, 6, 7, 8, 9, 10]\n",
        "\n",
        "# Using map function to apply the Square function to each element of the listOfIntNumbers\n",
        "mappingNumbers = map(squareMakingFunction, listOfIntNumbers)\n",
        "# listing the map\n",
        "result = list(mappingNumbers)\n",
        "\n",
        "# Printing the square of each number of listOfIntNumbers\n",
        "print(\"Square of each number of the list: \", result)\n"
      ],
      "metadata": {
        "colab": {
          "base_uri": "https://localhost:8080/"
        },
        "id": "sF11oILkpRK4",
        "outputId": "25437272-aa71-4995-e986-1b6c2a5dae21"
      },
      "execution_count": 34,
      "outputs": [
        {
          "output_type": "stream",
          "name": "stdout",
          "text": [
            "Square of each number of the list:  [1, 4, 9, 16, 25, 36, 49, 64, 81, 100]\n"
          ]
        }
      ]
    }
  ]
}